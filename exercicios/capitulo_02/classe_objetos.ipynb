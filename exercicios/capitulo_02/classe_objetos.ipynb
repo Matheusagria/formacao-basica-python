{
 "cells": [
  {
   "cell_type": "code",
   "execution_count": 1,
   "metadata": {},
   "outputs": [],
   "source": [
    "# Uma classe em Python, é uma ótima maneira de ter coleções de funções e atributos rotulados e organizados.\n",
    "#Exemplo\n",
    "\n",
    "# Classe = projeto arquitetônico de um escritório. (Tem todos os detalhes sobre pisos, portas, janelas, móveis, etc).\n",
    "# Com base na descrição dos seus detalhes, é possível construir um escritório.\n",
    "# Objeto = o escritório\n",
    "\n",
    "# Podemos construir vários objetos de uma classe, nesse exemplo, outros escritórios."
   ]
  },
  {
   "cell_type": "code",
   "execution_count": 17,
   "metadata": {},
   "outputs": [],
   "source": [
    "class Cachorro: # Deve começar com letra maiúscula.\n",
    "        def __init__(self, nome='Shiroi'):  # Receberá como argumento o nome, \n",
    "            # Porém se nenhum argumento for passado, esse cachorro se chamará 'Shiroi'.\n",
    "            # Assim, fica definido um valor padrão para o argumento 'nome'. Portanto, 'self.nome = nome'.\n",
    "            \n",
    "            # Função especial - De inicialização, que estabelece o estado inicial do objeto, informando seus atributos.\n",
    "\n",
    "            # Atribuída a essa função especial (de inicialização): \n",
    "            # inserimos a variável 'self', que é uma instância específica da classe Cachorro depois de inicializa-lá.\n",
    "\n",
    "            # Definição de atributos dessa função:\n",
    "            self.patas = 4\n",
    "            self.cor = 'branco'\n",
    "            self.nome = nome\n",
    "        \n",
    "        # Também pode-se criar uma nova função, chamada 'som', que vai imprimir o nome do Cachorro e o som que ele emite.\n",
    "        def som(self):\n",
    "            print(self.nome + ' é um cachorro que uiva')\n",
    "\n",
    "            # Percebe-se que foi atribuído uma variável self para função 'som', e isso permite acesso a qualquer um\n",
    "            # dos atributos ou função dessa mesma classe.\n",
    "\n",
    "            # Temos então a 'class', com duas funções definidas (__init__ e som).\n",
    "                "
   ]
  },
  {
   "cell_type": "code",
   "execution_count": 18,
   "metadata": {},
   "outputs": [],
   "source": [
    "# Criação do primeiro objeto. Vamos instaciá-lo:\n",
    "\n",
    "meu_cachorro = Cachorro()"
   ]
  },
  {
   "cell_type": "code",
   "execution_count": 19,
   "metadata": {},
   "outputs": [],
   "source": [
    "# Criação do segundo objeto. Vamos instaciá-lo:\n",
    "\n",
    "\n",
    "cachorro_vizinho = Cachorro()"
   ]
  },
  {
   "cell_type": "code",
   "execution_count": 20,
   "metadata": {},
   "outputs": [
    {
     "name": "stdout",
     "output_type": "stream",
     "text": [
      "Shiroi é um cachorro que uiva\n",
      "Shiroi é um cachorro que uiva\n"
     ]
    }
   ],
   "source": [
    "# Verificação de qual som ambos os objetos emitem:\n",
    "\n",
    "meu_cachorro.som()\n",
    "cachorro_vizinho.som()"
   ]
  },
  {
   "cell_type": "code",
   "execution_count": null,
   "metadata": {},
   "outputs": [],
   "source": [
    "# Percebe-se que ambos os Cachorros possuem o mesmo nome, mas gostaríamos de instanciar cachorros com nomes diferentes.\n",
    "# Para isso, vamos fazer uma pequena alteração na função de inicialização da classe Cachorro."
   ]
  },
  {
   "cell_type": "code",
   "execution_count": 8,
   "metadata": {},
   "outputs": [
    {
     "name": "stdout",
     "output_type": "stream",
     "text": [
      "Shiroi é um cachorro que uiva\n"
     ]
    }
   ],
   "source": [
    "cachorro_vizinho.som()\n",
    "\n",
    "# Shiroi, pois não foi definido a variável (atributo) cachorro_vizinho: um nome (self.nome)"
   ]
  },
  {
   "cell_type": "code",
   "execution_count": 21,
   "metadata": {},
   "outputs": [],
   "source": [
    "cachorro_bairro = Cachorro('Ziggy')"
   ]
  },
  {
   "cell_type": "code",
   "execution_count": 22,
   "metadata": {},
   "outputs": [
    {
     "name": "stdout",
     "output_type": "stream",
     "text": [
      "Ziggy é um cachorro que uiva\n"
     ]
    }
   ],
   "source": [
    "cachorro_bairro.som()"
   ]
  },
  {
   "cell_type": "code",
   "execution_count": 9,
   "metadata": {},
   "outputs": [],
   "source": [
    "# Python é uma linguagem orientada a objetos.\n",
    "# Essas instâncias de classe também são chamadas de objeto.\n",
    "# As varíaveis dentro dessas classes são chamadas de atributos, ou atributos dos objetos.\n",
    "# As funções aqui são chamadas de métodos, ou métodos de classe."
   ]
  },
  {
   "cell_type": "markdown",
   "metadata": {},
   "source": [
    "- Crie uma classe com 3 atributos"
   ]
  },
  {
   "cell_type": "code",
   "execution_count": 24,
   "metadata": {},
   "outputs": [],
   "source": [
    "class Praia:\n",
    "    def __init__(self):\n",
    "        self.clima = 'ensolarado'\n",
    "        self.mar = 'flat'\n",
    "        self.areia = 'fofa'"
   ]
  },
  {
   "cell_type": "markdown",
   "metadata": {},
   "source": [
    "- Defina um método para a classe"
   ]
  },
  {
   "cell_type": "code",
   "execution_count": 26,
   "metadata": {},
   "outputs": [],
   "source": [
    "def mudar_clima(self, novo_clima):\n",
    "        'Altera o clima da praia'\n",
    "        self.clima = novo_clima\n",
    "        print(\"O clima da praia foi alterado para {self.clima}.\")"
   ]
  },
  {
   "cell_type": "markdown",
   "metadata": {},
   "source": [
    "- Instancie a classe"
   ]
  },
  {
   "cell_type": "markdown",
   "metadata": {},
   "source": [
    "- Execute o método"
   ]
  }
 ],
 "metadata": {
  "kernelspec": {
   "display_name": "Python (Exercícios LinkedIn)",
   "language": "python",
   "name": "python-exercicios"
  },
  "language_info": {
   "codemirror_mode": {
    "name": "ipython",
    "version": 3
   },
   "file_extension": ".py",
   "mimetype": "text/x-python",
   "name": "python",
   "nbconvert_exporter": "python",
   "pygments_lexer": "ipython3",
   "version": "3.12.3"
  },
  "orig_nbformat": 4
 },
 "nbformat": 4,
 "nbformat_minor": 2
}

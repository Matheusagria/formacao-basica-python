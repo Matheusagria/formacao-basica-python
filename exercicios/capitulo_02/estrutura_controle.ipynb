{
 "cells": [
  {
   "cell_type": "code",
   "execution_count": null,
   "metadata": {},
   "outputs": [],
   "source": [
    "if condição:\n",
    "    Faça isso\n",
    "else:\n",
    "    Faça essa outra coisa"
   ]
  },
  {
   "cell_type": "code",
   "execution_count": 1,
   "metadata": {},
   "outputs": [],
   "source": [
    "a = 'internet'\n",
    "lista = ['internet', 'rede', 'wifi', 'cabeada']"
   ]
  },
  {
   "cell_type": "code",
   "execution_count": 4,
   "metadata": {},
   "outputs": [
    {
     "name": "stdout",
     "output_type": "stream",
     "text": [
      "tem internet\n"
     ]
    }
   ],
   "source": [
    "if a in lista:\n",
    "    print('tem internet')\n",
    "else:\n",
    "    print('não tem internet')"
   ]
  },
  {
   "cell_type": "code",
   "execution_count": 6,
   "metadata": {},
   "outputs": [],
   "source": [
    "# indentação PEP 0008 - Obrigação para código de controle, é representada por 4 espaços vazios. É uma convenção.\n",
    "# Já a Interação, serve para repetir determinado trecho de código."
   ]
  },
  {
   "cell_type": "code",
   "execution_count": 8,
   "metadata": {},
   "outputs": [
    {
     "name": "stdout",
     "output_type": "stream",
     "text": [
      "internet\n",
      "rede\n",
      "wifi\n",
      "cabeada\n"
     ]
    }
   ],
   "source": [
    "# O for loop, repete o treco de código pela quantidade de vezes determinada por um objeto sequencial.\n",
    "for palavra in lista:\n",
    "    print(palavra)"
   ]
  },
  {
   "cell_type": "code",
   "execution_count": 10,
   "metadata": {},
   "outputs": [],
   "source": [
    "# Repetição do tipo \"while\": Repete o trecho de código pela quantidade de vezes que determinada condição for verdadeira.\n",
    "b = 2"
   ]
  },
  {
   "cell_type": "code",
   "execution_count": 12,
   "metadata": {},
   "outputs": [
    {
     "name": "stdout",
     "output_type": "stream",
     "text": [
      "2 o número é menor do que 10\n",
      "3 o número é menor do que 10\n",
      "4 o número é menor do que 10\n",
      "5 o número é menor do que 10\n",
      "6 o número é menor do que 10\n",
      "7 o número é menor do que 10\n",
      "8 o número é menor do que 10\n",
      "9 o número é menor do que 10\n"
     ]
    }
   ],
   "source": [
    "while b < 10:\n",
    "    print(b, 'o número é menor do que 10')\n",
    "    b +=1 # Adicionado 1 a b, essa soma é necessária para que não entre em um loop infinito."
   ]
  }
 ],
 "metadata": {
  "kernelspec": {
   "display_name": "Python (.venv)",
   "language": "python",
   "name": ".venv"
  },
  "language_info": {
   "codemirror_mode": {
    "name": "ipython",
    "version": 3
   },
   "file_extension": ".py",
   "mimetype": "text/x-python",
   "name": "python",
   "nbconvert_exporter": "python",
   "pygments_lexer": "ipython3",
   "version": "3.12.3"
  }
 },
 "nbformat": 4,
 "nbformat_minor": 2
}

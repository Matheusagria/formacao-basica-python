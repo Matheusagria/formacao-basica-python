{
 "cells": [
  {
   "cell_type": "markdown",
   "metadata": {},
   "source": [
    "- Defina uma função com 1 argumento"
   ]
  },
  {
   "cell_type": "markdown",
   "metadata": {},
   "source": [
    "- Defina uma função com 2 argumentos"
   ]
  },
  {
   "cell_type": "code",
   "execution_count": 2,
   "metadata": {},
   "outputs": [
    {
     "name": "stdout",
     "output_type": "stream",
     "text": [
      "Olá\n"
     ]
    }
   ],
   "source": [
    "print('Olá')\n"
   ]
  },
  {
   "cell_type": "code",
   "execution_count": 3,
   "metadata": {},
   "outputs": [],
   "source": [
    "# Também podemnos definir a nossa própria função, com a palavra reservada def, e o nome da função deve seguir as mesmas regras para nomes de variáveis: começar com letra minúscula, não ter caracteres especiais, etc\n",
    "\n",
    "def multiplicarPorCinco(numero): # número que foi passado como argumento dessa função\n",
    "    return numero * 5\n",
    "\n",
    "# De forma obrigatório, inseri uma indetação para o trecho de código que corresponde à função \"multiplicarPorCinco\""
   ]
  },
  {
   "cell_type": "code",
   "execution_count": 6,
   "metadata": {},
   "outputs": [],
   "source": [
    "def somaNumeros(numero1, numero2):\n",
    "    return numero1 + numero2\n",
    "\n",
    "# Função que recebe mais de um argumento \n",
    "# Nas funções, costuma-se usar a palavra reservada \"return\". Dessa forma, o valor retornado na função poderá ser reutilizado por outras funções do nosso código.\n"
   ]
  },
  {
   "cell_type": "code",
   "execution_count": 7,
   "metadata": {},
   "outputs": [
    {
     "data": {
      "text/plain": [
       "8"
      ]
     },
     "execution_count": 7,
     "metadata": {},
     "output_type": "execute_result"
    }
   ],
   "source": [
    "somaNumeros(3, 5)"
   ]
  },
  {
   "cell_type": "code",
   "execution_count": 8,
   "metadata": {},
   "outputs": [],
   "source": [
    "def retiraUltimoElementoLista(lista):\n",
    "    lista.pop() # A função pop, retira o último elemento da lista."
   ]
  },
  {
   "cell_type": "code",
   "execution_count": 9,
   "metadata": {},
   "outputs": [],
   "source": [
    "# lista 'centenas'\n",
    "centenas = [200, 600, 600, 400]"
   ]
  },
  {
   "cell_type": "code",
   "execution_count": 10,
   "metadata": {},
   "outputs": [],
   "source": [
    "retiraUltimoElementoLista(centenas)"
   ]
  },
  {
   "cell_type": "code",
   "execution_count": 11,
   "metadata": {},
   "outputs": [
    {
     "name": "stdout",
     "output_type": "stream",
     "text": [
      "[200, 600, 600]\n"
     ]
    }
   ],
   "source": [
    "print(centenas)\n",
    "# com o último elemento não existindo mais devido a função pop."
   ]
  }
 ],
 "metadata": {
  "kernelspec": {
   "display_name": "Python (.venv)",
   "language": "python",
   "name": ".venv"
  },
  "language_info": {
   "codemirror_mode": {
    "name": "ipython",
    "version": 3
   },
   "file_extension": ".py",
   "mimetype": "text/x-python",
   "name": "python",
   "nbconvert_exporter": "python",
   "pygments_lexer": "ipython3",
   "version": "3.12.3"
  },
  "orig_nbformat": 4,
  "vscode": {
   "interpreter": {
    "hash": "1a1af0ee75eeea9e2e1ee996c87e7a2b11a0bebd85af04bb136d915cefc0abce"
   }
  }
 },
 "nbformat": 4,
 "nbformat_minor": 2
}
